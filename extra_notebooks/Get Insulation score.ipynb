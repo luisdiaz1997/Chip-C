{
 "cells": [
  {
   "cell_type": "code",
   "execution_count": 1,
   "metadata": {},
   "outputs": [],
   "source": [
    "from cooltools.insulation import calculate_insulation_score, find_boundaries\n",
    "import cooler"
   ]
  },
  {
   "cell_type": "code",
   "execution_count": null,
   "metadata": {},
   "outputs": [
    {
     "name": "stderr",
     "output_type": "stream",
     "text": [
      "INFO:root:Processing chr1\n",
      "INFO:numexpr.utils:Note: NumExpr detected 40 cores but \"NUMEXPR_MAX_THREADS\" not set, so enforcing safe limit of 8.\n",
      "INFO:numexpr.utils:NumExpr defaulting to 8 threads.\n",
      "INFO:root:Processing chr2\n"
     ]
    }
   ],
   "source": [
    "cname = '/pollard/data/wynton/consortia/4DN/rao2014/GM12878/4DNFIXP4QG5B.mcool'\n",
    "clr = cooler.Cooler(cname+'::resolutions/1000')\n",
    "\n",
    "windows = [50000,100000]\n",
    "insulation = calculate_insulation_score(clr, windows, verbose=True)\n"
   ]
  },
  {
   "cell_type": "code",
   "execution_count": null,
   "metadata": {},
   "outputs": [],
   "source": [
    "ins_boundaries_1k =  cooltools.insulation.find_boundaries(insulation_1k, min_frac_valid_pixels=.5)\n",
    "ins_boundaries_1k['is_boundary'] = (ins_boundaries_1k['boundary_strength_50000'].values>.15).astype(int)"
   ]
  },
  {
   "cell_type": "code",
   "execution_count": null,
   "metadata": {},
   "outputs": [],
   "source": [
    "bioframe.to_bigwig(ins_boundaries_1k, hg19_chroms, 'GM12878_inSitu_MboI.hg19.mapq_30.1000.insul.50000.boundaries.bw','is_boundary')"
   ]
  }
 ],
 "metadata": {
  "kernelspec": {
   "display_name": "Python 3",
   "language": "python",
   "name": "python3"
  },
  "language_info": {
   "codemirror_mode": {
    "name": "ipython",
    "version": 3
   },
   "file_extension": ".py",
   "mimetype": "text/x-python",
   "name": "python",
   "nbconvert_exporter": "python",
   "pygments_lexer": "ipython3",
   "version": "3.7.9"
  }
 },
 "nbformat": 4,
 "nbformat_minor": 4
}
