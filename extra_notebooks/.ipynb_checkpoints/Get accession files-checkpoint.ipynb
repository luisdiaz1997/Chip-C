{
 "cells": [
  {
   "cell_type": "code",
   "execution_count": 23,
   "metadata": {},
   "outputs": [],
   "source": [
    "import bioframe.io\n",
    "import pandas as pd\n",
    "import numpy as np\n",
    "base_dir = '../data/'\n",
    "assembly = 'GRCh38'\n",
    "\n",
    "\n",
    "ec = bioframe.EncodeClient(base_dir, assembly)  \n",
    "metadata = pd.read_csv(base_dir+'metadata.tsv', sep='\\t')"
   ]
  },
  {
   "cell_type": "code",
   "execution_count": 24,
   "metadata": {},
   "outputs": [
    {
     "name": "stdout",
     "output_type": "stream",
     "text": [
      "H3k27ac\n",
      "H3k27me3\n",
      "H3K36me3\n",
      "H3K4me1\n",
      "CTCF\n",
      "POLR2A\n"
     ]
    },
    {
     "data": {
      "text/html": [
       "<div>\n",
       "<style scoped>\n",
       "    .dataframe tbody tr th:only-of-type {\n",
       "        vertical-align: middle;\n",
       "    }\n",
       "\n",
       "    .dataframe tbody tr th {\n",
       "        vertical-align: top;\n",
       "    }\n",
       "\n",
       "    .dataframe thead th {\n",
       "        text-align: right;\n",
       "    }\n",
       "</style>\n",
       "<table border=\"1\" class=\"dataframe\">\n",
       "  <thead>\n",
       "    <tr style=\"text-align: right;\">\n",
       "      <th></th>\n",
       "      <th>File accession</th>\n",
       "      <th>Biosample term name</th>\n",
       "      <th>Experiment target</th>\n",
       "      <th>Suffixes</th>\n",
       "    </tr>\n",
       "  </thead>\n",
       "  <tbody>\n",
       "    <tr>\n",
       "      <th>68688</th>\n",
       "      <td>ENCFF039JOT</td>\n",
       "      <td>GM12878</td>\n",
       "      <td>H3K27me3-human</td>\n",
       "      <td>_UW</td>\n",
       "    </tr>\n",
       "    <tr>\n",
       "      <th>68702</th>\n",
       "      <td>ENCFF486WAD</td>\n",
       "      <td>GM12878</td>\n",
       "      <td>H3K27me3-human</td>\n",
       "      <td>_UW</td>\n",
       "    </tr>\n",
       "    <tr>\n",
       "      <th>223995</th>\n",
       "      <td>ENCFF086FEO</td>\n",
       "      <td>GM12878</td>\n",
       "      <td>POLR2AphosphoS2-human</td>\n",
       "      <td>_Stanford</td>\n",
       "    </tr>\n",
       "    <tr>\n",
       "      <th>224009</th>\n",
       "      <td>ENCFF353DID</td>\n",
       "      <td>GM12878</td>\n",
       "      <td>POLR2AphosphoS2-human</td>\n",
       "      <td>_Stanford</td>\n",
       "    </tr>\n",
       "  </tbody>\n",
       "</table>\n",
       "</div>"
      ],
      "text/plain": [
       "       File accession Biosample term name      Experiment target   Suffixes\n",
       "68688     ENCFF039JOT             GM12878         H3K27me3-human        _UW\n",
       "68702     ENCFF486WAD             GM12878         H3K27me3-human        _UW\n",
       "223995    ENCFF086FEO             GM12878  POLR2AphosphoS2-human  _Stanford\n",
       "224009    ENCFF353DID             GM12878  POLR2AphosphoS2-human  _Stanford"
      ]
     },
     "execution_count": 24,
     "metadata": {},
     "output_type": "execute_result"
    }
   ],
   "source": [
    "### get desired analysis factors\n",
    "analysis_factors = ['H3k27ac', 'H3k27me3', 'H3K36me3', 'H3K4me1', 'CTCF', 'POLR2A']\n",
    "l = []\n",
    "inds = ( (metadata['File assembly']==assembly)\n",
    "             &(metadata['File type']=='bigWig') \n",
    "             &(metadata['Biosample term name']=='GM12878') #'IMR-90')#\n",
    "             &(pd.isna(metadata['Audit ERROR']))\n",
    "           )\n",
    "    \n",
    "    \n",
    "for i in analysis_factors:\n",
    "    print(i)\n",
    "\n",
    "    target_ind = (metadata['Experiment target'].astype('str').str.contains(i,case=False)\n",
    "                  &(metadata['Output type']=='fold change over control')\n",
    "                  &(metadata['Biological replicate(s)']=='1, 2')\n",
    "                 )\n",
    "    l.append(np.where(inds & target_ind)[0].flatten())\n",
    "    \n",
    "### make suffixes using Experiment accesion\n",
    "out = np.concatenate(l).ravel()\n",
    "out_df = metadata.iloc[out][['File accession', 'Biosample term name', 'Experiment target']]\n",
    "suffixes = []\n",
    "for i in out:\n",
    "    suffixes.append('_'+\n",
    "                    (list(set(metadata.iloc[ \n",
    "                    metadata['Experiment accession'].values==\n",
    "                    metadata['Experiment accession'].values[i]\n",
    "                             ]['Lab'].values).difference(\n",
    "                    set(['ENCODE Processing Pipeline', \n",
    "                         'ENCODE Consortium',\n",
    "                         'ENCODE Consortium Analysis Working Group'])))[0].split(\" \")[-1])\n",
    "                    )\n",
    "out_df['Suffixes'] = suffixes\n",
    "out_df"
   ]
  },
  {
   "cell_type": "code",
   "execution_count": 12,
   "metadata": {},
   "outputs": [
    {
     "data": {
      "text/plain": [
       "array([68688, 68702])"
      ]
     },
     "execution_count": 12,
     "metadata": {},
     "output_type": "execute_result"
    }
   ],
   "source": [
    "l[1]"
   ]
  },
  {
   "cell_type": "code",
   "execution_count": null,
   "metadata": {},
   "outputs": [],
   "source": []
  }
 ],
 "metadata": {
  "kernelspec": {
   "display_name": "Python 3",
   "language": "python",
   "name": "python3"
  },
  "language_info": {
   "codemirror_mode": {
    "name": "ipython",
    "version": 3
   },
   "file_extension": ".py",
   "mimetype": "text/x-python",
   "name": "python",
   "nbconvert_exporter": "python",
   "pygments_lexer": "ipython3",
   "version": "3.7.9"
  }
 },
 "nbformat": 4,
 "nbformat_minor": 4
}
