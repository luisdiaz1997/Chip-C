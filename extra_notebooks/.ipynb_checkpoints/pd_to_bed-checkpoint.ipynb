{
 "cells": [
  {
   "cell_type": "code",
   "execution_count": 45,
   "metadata": {},
   "outputs": [],
   "source": [
    "import pandas as pd\n",
    "from pybedtools import BedTool"
   ]
  },
  {
   "cell_type": "code",
   "execution_count": 46,
   "metadata": {},
   "outputs": [
    {
     "name": "stdout",
     "output_type": "stream",
     "text": [
      "GM12878.bed  GM12878_nonan.txt\tGM12878.tsv  pd_to_bed.ipynb\r\n"
     ]
    }
   ],
   "source": [
    "!ls"
   ]
  },
  {
   "cell_type": "code",
   "execution_count": 60,
   "metadata": {},
   "outputs": [],
   "source": [
    "df = pd.read_csv('GM12878.tsv', sep = '\\t')"
   ]
  },
  {
   "cell_type": "code",
   "execution_count": 61,
   "metadata": {},
   "outputs": [],
   "source": [
    "df = df[~df['E1'].isna()]"
   ]
  },
  {
   "cell_type": "code",
   "execution_count": 62,
   "metadata": {},
   "outputs": [
    {
     "data": {
      "text/html": [
       "<div>\n",
       "<style scoped>\n",
       "    .dataframe tbody tr th:only-of-type {\n",
       "        vertical-align: middle;\n",
       "    }\n",
       "\n",
       "    .dataframe tbody tr th {\n",
       "        vertical-align: top;\n",
       "    }\n",
       "\n",
       "    .dataframe thead th {\n",
       "        text-align: right;\n",
       "    }\n",
       "</style>\n",
       "<table border=\"1\" class=\"dataframe\">\n",
       "  <thead>\n",
       "    <tr style=\"text-align: right;\">\n",
       "      <th></th>\n",
       "      <th>chrom</th>\n",
       "      <th>start</th>\n",
       "      <th>end</th>\n",
       "      <th>weight</th>\n",
       "      <th>gene_count</th>\n",
       "      <th>E1</th>\n",
       "      <th>E2</th>\n",
       "      <th>E3</th>\n",
       "      <th>binary</th>\n",
       "      <th>HMM2</th>\n",
       "      <th>HMM3</th>\n",
       "      <th>HMM4</th>\n",
       "      <th>HMM5</th>\n",
       "      <th>HMM6</th>\n",
       "      <th>HMM5_2</th>\n",
       "    </tr>\n",
       "  </thead>\n",
       "  <tbody>\n",
       "    <tr>\n",
       "      <th>8</th>\n",
       "      <td>chr1</td>\n",
       "      <td>800000</td>\n",
       "      <td>900000</td>\n",
       "      <td>0.002718</td>\n",
       "      <td>0.55494</td>\n",
       "      <td>0.844496</td>\n",
       "      <td>0.060095</td>\n",
       "      <td>0.544104</td>\n",
       "      <td>1.0</td>\n",
       "      <td>1.0</td>\n",
       "      <td>2.0</td>\n",
       "      <td>3.0</td>\n",
       "      <td>4.0</td>\n",
       "      <td>5.0</td>\n",
       "      <td>4.0</td>\n",
       "    </tr>\n",
       "    <tr>\n",
       "      <th>9</th>\n",
       "      <td>chr1</td>\n",
       "      <td>900000</td>\n",
       "      <td>1000000</td>\n",
       "      <td>0.002325</td>\n",
       "      <td>0.64650</td>\n",
       "      <td>0.887215</td>\n",
       "      <td>0.340817</td>\n",
       "      <td>0.631535</td>\n",
       "      <td>1.0</td>\n",
       "      <td>1.0</td>\n",
       "      <td>2.0</td>\n",
       "      <td>3.0</td>\n",
       "      <td>4.0</td>\n",
       "      <td>5.0</td>\n",
       "      <td>4.0</td>\n",
       "    </tr>\n",
       "    <tr>\n",
       "      <th>10</th>\n",
       "      <td>chr1</td>\n",
       "      <td>1000000</td>\n",
       "      <td>1100000</td>\n",
       "      <td>0.002822</td>\n",
       "      <td>0.48778</td>\n",
       "      <td>0.867886</td>\n",
       "      <td>0.255390</td>\n",
       "      <td>0.650505</td>\n",
       "      <td>1.0</td>\n",
       "      <td>1.0</td>\n",
       "      <td>2.0</td>\n",
       "      <td>3.0</td>\n",
       "      <td>4.0</td>\n",
       "      <td>5.0</td>\n",
       "      <td>4.0</td>\n",
       "    </tr>\n",
       "    <tr>\n",
       "      <th>11</th>\n",
       "      <td>chr1</td>\n",
       "      <td>1100000</td>\n",
       "      <td>1200000</td>\n",
       "      <td>0.002606</td>\n",
       "      <td>0.69623</td>\n",
       "      <td>0.881066</td>\n",
       "      <td>0.267095</td>\n",
       "      <td>0.614018</td>\n",
       "      <td>1.0</td>\n",
       "      <td>1.0</td>\n",
       "      <td>2.0</td>\n",
       "      <td>3.0</td>\n",
       "      <td>4.0</td>\n",
       "      <td>5.0</td>\n",
       "      <td>4.0</td>\n",
       "    </tr>\n",
       "    <tr>\n",
       "      <th>12</th>\n",
       "      <td>chr1</td>\n",
       "      <td>1200000</td>\n",
       "      <td>1300000</td>\n",
       "      <td>0.002530</td>\n",
       "      <td>0.99497</td>\n",
       "      <td>0.799386</td>\n",
       "      <td>0.363481</td>\n",
       "      <td>0.698830</td>\n",
       "      <td>1.0</td>\n",
       "      <td>1.0</td>\n",
       "      <td>2.0</td>\n",
       "      <td>3.0</td>\n",
       "      <td>4.0</td>\n",
       "      <td>5.0</td>\n",
       "      <td>4.0</td>\n",
       "    </tr>\n",
       "  </tbody>\n",
       "</table>\n",
       "</div>"
      ],
      "text/plain": [
       "   chrom    start      end    weight  gene_count        E1        E2  \\\n",
       "8   chr1   800000   900000  0.002718     0.55494  0.844496  0.060095   \n",
       "9   chr1   900000  1000000  0.002325     0.64650  0.887215  0.340817   \n",
       "10  chr1  1000000  1100000  0.002822     0.48778  0.867886  0.255390   \n",
       "11  chr1  1100000  1200000  0.002606     0.69623  0.881066  0.267095   \n",
       "12  chr1  1200000  1300000  0.002530     0.99497  0.799386  0.363481   \n",
       "\n",
       "          E3  binary  HMM2  HMM3  HMM4  HMM5  HMM6  HMM5_2  \n",
       "8   0.544104     1.0   1.0   2.0   3.0   4.0   5.0     4.0  \n",
       "9   0.631535     1.0   1.0   2.0   3.0   4.0   5.0     4.0  \n",
       "10  0.650505     1.0   1.0   2.0   3.0   4.0   5.0     4.0  \n",
       "11  0.614018     1.0   1.0   2.0   3.0   4.0   5.0     4.0  \n",
       "12  0.698830     1.0   1.0   2.0   3.0   4.0   5.0     4.0  "
      ]
     },
     "execution_count": 62,
     "metadata": {},
     "output_type": "execute_result"
    }
   ],
   "source": [
    "df.head()"
   ]
  },
  {
   "cell_type": "code",
   "execution_count": 63,
   "metadata": {},
   "outputs": [],
   "source": [
    "df= df.drop(labels=['weight', 'gene_count', 'E1', 'E2', 'E3', 'binary', 'HMM2', 'HMM3','HMM4', 'HMM5', 'HMM6'], axis = 1)"
   ]
  },
  {
   "cell_type": "code",
   "execution_count": 64,
   "metadata": {},
   "outputs": [
    {
     "data": {
      "text/html": [
       "<div>\n",
       "<style scoped>\n",
       "    .dataframe tbody tr th:only-of-type {\n",
       "        vertical-align: middle;\n",
       "    }\n",
       "\n",
       "    .dataframe tbody tr th {\n",
       "        vertical-align: top;\n",
       "    }\n",
       "\n",
       "    .dataframe thead th {\n",
       "        text-align: right;\n",
       "    }\n",
       "</style>\n",
       "<table border=\"1\" class=\"dataframe\">\n",
       "  <thead>\n",
       "    <tr style=\"text-align: right;\">\n",
       "      <th></th>\n",
       "      <th>chrom</th>\n",
       "      <th>start</th>\n",
       "      <th>end</th>\n",
       "      <th>HMM5_2</th>\n",
       "    </tr>\n",
       "  </thead>\n",
       "  <tbody>\n",
       "    <tr>\n",
       "      <th>8</th>\n",
       "      <td>chr1</td>\n",
       "      <td>800000</td>\n",
       "      <td>900000</td>\n",
       "      <td>4.0</td>\n",
       "    </tr>\n",
       "    <tr>\n",
       "      <th>9</th>\n",
       "      <td>chr1</td>\n",
       "      <td>900000</td>\n",
       "      <td>1000000</td>\n",
       "      <td>4.0</td>\n",
       "    </tr>\n",
       "    <tr>\n",
       "      <th>10</th>\n",
       "      <td>chr1</td>\n",
       "      <td>1000000</td>\n",
       "      <td>1100000</td>\n",
       "      <td>4.0</td>\n",
       "    </tr>\n",
       "    <tr>\n",
       "      <th>11</th>\n",
       "      <td>chr1</td>\n",
       "      <td>1100000</td>\n",
       "      <td>1200000</td>\n",
       "      <td>4.0</td>\n",
       "    </tr>\n",
       "    <tr>\n",
       "      <th>12</th>\n",
       "      <td>chr1</td>\n",
       "      <td>1200000</td>\n",
       "      <td>1300000</td>\n",
       "      <td>4.0</td>\n",
       "    </tr>\n",
       "  </tbody>\n",
       "</table>\n",
       "</div>"
      ],
      "text/plain": [
       "   chrom    start      end  HMM5_2\n",
       "8   chr1   800000   900000     4.0\n",
       "9   chr1   900000  1000000     4.0\n",
       "10  chr1  1000000  1100000     4.0\n",
       "11  chr1  1100000  1200000     4.0\n",
       "12  chr1  1200000  1300000     4.0"
      ]
     },
     "execution_count": 64,
     "metadata": {},
     "output_type": "execute_result"
    }
   ],
   "source": [
    "df.head()"
   ]
  },
  {
   "cell_type": "code",
   "execution_count": 65,
   "metadata": {},
   "outputs": [],
   "source": [
    "df.to_csv('GM12878_nonan.txt', sep = '\\t', index=False )"
   ]
  },
  {
   "cell_type": "code",
   "execution_count": 33,
   "metadata": {},
   "outputs": [
    {
     "data": {
      "text/plain": [
       "<BedTool(GM12878.bed)>"
      ]
     },
     "execution_count": 33,
     "metadata": {},
     "output_type": "execute_result"
    }
   ],
   "source": [
    "BedTool.from_dataframe(df, outfile='GM12878.bed', header = df.columns )"
   ]
  },
  {
   "cell_type": "code",
   "execution_count": 31,
   "metadata": {
    "scrolled": true
   },
   "outputs": [],
   "source": [
    "bed = BedTool('GM12878.bed')"
   ]
  },
  {
   "cell_type": "code",
   "execution_count": 32,
   "metadata": {},
   "outputs": [
    {
     "name": "stdout",
     "output_type": "stream",
     "text": [
      "chr1\t800000\t900000\t0.002718182789751283\t0.55494\t0.8444964987598498\t0.0600945143290017\t0.5441043657222946\t1.0\t1.0\t2.0\t3.0\t4.0\t5.0\t4.0\n",
      " chr1\t900000\t1000000\t0.002324838900347311\t0.6465\t0.8872147476319936\t0.3408174915838781\t0.6315346080459663\t1.0\t1.0\t2.0\t3.0\t4.0\t5.0\t4.0\n",
      " chr1\t1000000\t1100000\t0.002822364448531321\t0.48778\t0.8678855038286829\t0.2553898637603099\t0.6505051853144733\t1.0\t1.0\t2.0\t3.0\t4.0\t5.0\t4.0\n",
      " chr1\t1100000\t1200000\t0.002606374462381501\t0.69623\t0.8810661231976994\t0.2670952895598344\t0.6140178057493773\t1.0\t1.0\t2.0\t3.0\t4.0\t5.0\t4.0\n",
      " chr1\t1200000\t1300000\t0.0025304126604879266\t0.99497\t0.7993857743195988\t0.3634814305128325\t0.6988297685404945\t1.0\t1.0\t2.0\t3.0\t4.0\t5.0\t4.0\n",
      " "
     ]
    }
   ],
   "source": [
    "bed.head(5)"
   ]
  },
  {
   "cell_type": "code",
   "execution_count": 13,
   "metadata": {},
   "outputs": [],
   "source": [
    "a = pybedtools.example_bedtool('a.bed')"
   ]
  },
  {
   "cell_type": "code",
   "execution_count": null,
   "metadata": {},
   "outputs": [],
   "source": []
  }
 ],
 "metadata": {
  "kernelspec": {
   "display_name": "Python 3",
   "language": "python",
   "name": "python3"
  },
  "language_info": {
   "codemirror_mode": {
    "name": "ipython",
    "version": 3
   },
   "file_extension": ".py",
   "mimetype": "text/x-python",
   "name": "python",
   "nbconvert_exporter": "python",
   "pygments_lexer": "ipython3",
   "version": "3.7.9"
  }
 },
 "nbformat": 4,
 "nbformat_minor": 4
}
