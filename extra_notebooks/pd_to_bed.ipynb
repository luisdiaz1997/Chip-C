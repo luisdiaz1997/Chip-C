{
 "cells": [
  {
   "cell_type": "code",
   "execution_count": 1,
   "metadata": {},
   "outputs": [],
   "source": [
    "import pandas as pd\n",
    "from pybedtools import BedTool"
   ]
  },
  {
   "cell_type": "code",
   "execution_count": 2,
   "metadata": {},
   "outputs": [
    {
     "name": "stdout",
     "output_type": "stream",
     "text": [
      "Bigwig analysis.ipynb\t    pd_to_bed.ipynb\r\n",
      "Fig 2 tracks.ipynb\t    Plot_Colortracks.ipynb\r\n",
      "Get accession files.ipynb   Test postprocessing.ipynb\r\n",
      "Get Insulation score.ipynb\r\n"
     ]
    }
   ],
   "source": [
    "!ls"
   ]
  },
  {
   "cell_type": "code",
   "execution_count": 3,
   "metadata": {},
   "outputs": [],
   "source": [
    "df = pd.read_csv('../annotations/IMR90_hg38_25kb.tsv', sep = '\\t')"
   ]
  },
  {
   "cell_type": "code",
   "execution_count": 4,
   "metadata": {},
   "outputs": [],
   "source": [
    "df = df[~df['E1'].isna()]"
   ]
  },
  {
   "cell_type": "code",
   "execution_count": 5,
   "metadata": {},
   "outputs": [
    {
     "data": {
      "text/html": [
       "<div>\n",
       "<style scoped>\n",
       "    .dataframe tbody tr th:only-of-type {\n",
       "        vertical-align: middle;\n",
       "    }\n",
       "\n",
       "    .dataframe tbody tr th {\n",
       "        vertical-align: top;\n",
       "    }\n",
       "\n",
       "    .dataframe thead th {\n",
       "        text-align: right;\n",
       "    }\n",
       "</style>\n",
       "<table border=\"1\" class=\"dataframe\">\n",
       "  <thead>\n",
       "    <tr style=\"text-align: right;\">\n",
       "      <th></th>\n",
       "      <th>chrom</th>\n",
       "      <th>start</th>\n",
       "      <th>end</th>\n",
       "      <th>KR</th>\n",
       "      <th>VC</th>\n",
       "      <th>VC_SQRT</th>\n",
       "      <th>weight</th>\n",
       "      <th>GC</th>\n",
       "      <th>E1</th>\n",
       "      <th>E2</th>\n",
       "      <th>E3</th>\n",
       "      <th>binary</th>\n",
       "      <th>HMM2</th>\n",
       "      <th>HMM3</th>\n",
       "      <th>HMM3P</th>\n",
       "    </tr>\n",
       "  </thead>\n",
       "  <tbody>\n",
       "    <tr>\n",
       "      <th>25</th>\n",
       "      <td>chr1</td>\n",
       "      <td>625000</td>\n",
       "      <td>650000</td>\n",
       "      <td>0.154388</td>\n",
       "      <td>0.118111</td>\n",
       "      <td>0.302427</td>\n",
       "      <td>0.010931</td>\n",
       "      <td>0.43100</td>\n",
       "      <td>-0.058453</td>\n",
       "      <td>-0.183810</td>\n",
       "      <td>-0.327669</td>\n",
       "      <td>0.0</td>\n",
       "      <td>1.0</td>\n",
       "      <td>1.0</td>\n",
       "      <td>2.0</td>\n",
       "    </tr>\n",
       "    <tr>\n",
       "      <th>31</th>\n",
       "      <td>chr1</td>\n",
       "      <td>775000</td>\n",
       "      <td>800000</td>\n",
       "      <td>0.494215</td>\n",
       "      <td>0.398368</td>\n",
       "      <td>0.555416</td>\n",
       "      <td>0.018041</td>\n",
       "      <td>0.41296</td>\n",
       "      <td>0.936135</td>\n",
       "      <td>0.103860</td>\n",
       "      <td>0.507602</td>\n",
       "      <td>1.0</td>\n",
       "      <td>1.0</td>\n",
       "      <td>2.0</td>\n",
       "      <td>4.0</td>\n",
       "    </tr>\n",
       "    <tr>\n",
       "      <th>32</th>\n",
       "      <td>chr1</td>\n",
       "      <td>800000</td>\n",
       "      <td>825000</td>\n",
       "      <td>0.693428</td>\n",
       "      <td>0.619971</td>\n",
       "      <td>0.692886</td>\n",
       "      <td>0.012780</td>\n",
       "      <td>0.42300</td>\n",
       "      <td>1.116897</td>\n",
       "      <td>0.202036</td>\n",
       "      <td>0.616882</td>\n",
       "      <td>1.0</td>\n",
       "      <td>1.0</td>\n",
       "      <td>2.0</td>\n",
       "      <td>4.0</td>\n",
       "    </tr>\n",
       "    <tr>\n",
       "      <th>33</th>\n",
       "      <td>chr1</td>\n",
       "      <td>825000</td>\n",
       "      <td>850000</td>\n",
       "      <td>0.794389</td>\n",
       "      <td>0.686291</td>\n",
       "      <td>0.729004</td>\n",
       "      <td>0.011854</td>\n",
       "      <td>0.46412</td>\n",
       "      <td>1.077900</td>\n",
       "      <td>-0.088757</td>\n",
       "      <td>0.560717</td>\n",
       "      <td>1.0</td>\n",
       "      <td>1.0</td>\n",
       "      <td>2.0</td>\n",
       "      <td>4.0</td>\n",
       "    </tr>\n",
       "    <tr>\n",
       "      <th>34</th>\n",
       "      <td>chr1</td>\n",
       "      <td>850000</td>\n",
       "      <td>875000</td>\n",
       "      <td>0.564306</td>\n",
       "      <td>0.504534</td>\n",
       "      <td>0.625059</td>\n",
       "      <td>0.015849</td>\n",
       "      <td>0.46696</td>\n",
       "      <td>0.971274</td>\n",
       "      <td>-0.077480</td>\n",
       "      <td>0.327310</td>\n",
       "      <td>1.0</td>\n",
       "      <td>1.0</td>\n",
       "      <td>2.0</td>\n",
       "      <td>4.0</td>\n",
       "    </tr>\n",
       "  </tbody>\n",
       "</table>\n",
       "</div>"
      ],
      "text/plain": [
       "   chrom   start     end        KR        VC   VC_SQRT    weight       GC  \\\n",
       "25  chr1  625000  650000  0.154388  0.118111  0.302427  0.010931  0.43100   \n",
       "31  chr1  775000  800000  0.494215  0.398368  0.555416  0.018041  0.41296   \n",
       "32  chr1  800000  825000  0.693428  0.619971  0.692886  0.012780  0.42300   \n",
       "33  chr1  825000  850000  0.794389  0.686291  0.729004  0.011854  0.46412   \n",
       "34  chr1  850000  875000  0.564306  0.504534  0.625059  0.015849  0.46696   \n",
       "\n",
       "          E1        E2        E3  binary  HMM2  HMM3  HMM3P  \n",
       "25 -0.058453 -0.183810 -0.327669     0.0   1.0   1.0    2.0  \n",
       "31  0.936135  0.103860  0.507602     1.0   1.0   2.0    4.0  \n",
       "32  1.116897  0.202036  0.616882     1.0   1.0   2.0    4.0  \n",
       "33  1.077900 -0.088757  0.560717     1.0   1.0   2.0    4.0  \n",
       "34  0.971274 -0.077480  0.327310     1.0   1.0   2.0    4.0  "
      ]
     },
     "execution_count": 5,
     "metadata": {},
     "output_type": "execute_result"
    }
   ],
   "source": [
    "df.head()"
   ]
  },
  {
   "cell_type": "code",
   "execution_count": 9,
   "metadata": {},
   "outputs": [],
   "source": [
    "df= df.drop(labels=['weight', 'GC', 'E1', 'E2', 'E3', 'binary', 'HMM2', 'HMM3'], axis = 1)"
   ]
  },
  {
   "cell_type": "code",
   "execution_count": 10,
   "metadata": {},
   "outputs": [
    {
     "data": {
      "text/html": [
       "<div>\n",
       "<style scoped>\n",
       "    .dataframe tbody tr th:only-of-type {\n",
       "        vertical-align: middle;\n",
       "    }\n",
       "\n",
       "    .dataframe tbody tr th {\n",
       "        vertical-align: top;\n",
       "    }\n",
       "\n",
       "    .dataframe thead th {\n",
       "        text-align: right;\n",
       "    }\n",
       "</style>\n",
       "<table border=\"1\" class=\"dataframe\">\n",
       "  <thead>\n",
       "    <tr style=\"text-align: right;\">\n",
       "      <th></th>\n",
       "      <th>chrom</th>\n",
       "      <th>start</th>\n",
       "      <th>end</th>\n",
       "      <th>KR</th>\n",
       "      <th>VC</th>\n",
       "      <th>VC_SQRT</th>\n",
       "      <th>HMM3P</th>\n",
       "    </tr>\n",
       "  </thead>\n",
       "  <tbody>\n",
       "    <tr>\n",
       "      <th>25</th>\n",
       "      <td>chr1</td>\n",
       "      <td>625000</td>\n",
       "      <td>650000</td>\n",
       "      <td>0.154388</td>\n",
       "      <td>0.118111</td>\n",
       "      <td>0.302427</td>\n",
       "      <td>2.0</td>\n",
       "    </tr>\n",
       "    <tr>\n",
       "      <th>31</th>\n",
       "      <td>chr1</td>\n",
       "      <td>775000</td>\n",
       "      <td>800000</td>\n",
       "      <td>0.494215</td>\n",
       "      <td>0.398368</td>\n",
       "      <td>0.555416</td>\n",
       "      <td>4.0</td>\n",
       "    </tr>\n",
       "    <tr>\n",
       "      <th>32</th>\n",
       "      <td>chr1</td>\n",
       "      <td>800000</td>\n",
       "      <td>825000</td>\n",
       "      <td>0.693428</td>\n",
       "      <td>0.619971</td>\n",
       "      <td>0.692886</td>\n",
       "      <td>4.0</td>\n",
       "    </tr>\n",
       "    <tr>\n",
       "      <th>33</th>\n",
       "      <td>chr1</td>\n",
       "      <td>825000</td>\n",
       "      <td>850000</td>\n",
       "      <td>0.794389</td>\n",
       "      <td>0.686291</td>\n",
       "      <td>0.729004</td>\n",
       "      <td>4.0</td>\n",
       "    </tr>\n",
       "    <tr>\n",
       "      <th>34</th>\n",
       "      <td>chr1</td>\n",
       "      <td>850000</td>\n",
       "      <td>875000</td>\n",
       "      <td>0.564306</td>\n",
       "      <td>0.504534</td>\n",
       "      <td>0.625059</td>\n",
       "      <td>4.0</td>\n",
       "    </tr>\n",
       "  </tbody>\n",
       "</table>\n",
       "</div>"
      ],
      "text/plain": [
       "   chrom   start     end        KR        VC   VC_SQRT  HMM3P\n",
       "25  chr1  625000  650000  0.154388  0.118111  0.302427    2.0\n",
       "31  chr1  775000  800000  0.494215  0.398368  0.555416    4.0\n",
       "32  chr1  800000  825000  0.693428  0.619971  0.692886    4.0\n",
       "33  chr1  825000  850000  0.794389  0.686291  0.729004    4.0\n",
       "34  chr1  850000  875000  0.564306  0.504534  0.625059    4.0"
      ]
     },
     "execution_count": 10,
     "metadata": {},
     "output_type": "execute_result"
    }
   ],
   "source": [
    "df.head()"
   ]
  },
  {
   "cell_type": "code",
   "execution_count": 33,
   "metadata": {},
   "outputs": [
    {
     "data": {
      "text/plain": [
       "<BedTool(GM12878.bed)>"
      ]
     },
     "execution_count": 33,
     "metadata": {},
     "output_type": "execute_result"
    }
   ],
   "source": [
    "BedTool.from_dataframe(df, outfile='GM12878.bed', header = df.columns )"
   ]
  },
  {
   "cell_type": "code",
   "execution_count": 31,
   "metadata": {
    "scrolled": true
   },
   "outputs": [],
   "source": [
    "bed = BedTool('GM12878.bed')"
   ]
  },
  {
   "cell_type": "code",
   "execution_count": 32,
   "metadata": {},
   "outputs": [
    {
     "name": "stdout",
     "output_type": "stream",
     "text": [
      "chr1\t800000\t900000\t0.002718182789751283\t0.55494\t0.8444964987598498\t0.0600945143290017\t0.5441043657222946\t1.0\t1.0\t2.0\t3.0\t4.0\t5.0\t4.0\n",
      " chr1\t900000\t1000000\t0.002324838900347311\t0.6465\t0.8872147476319936\t0.3408174915838781\t0.6315346080459663\t1.0\t1.0\t2.0\t3.0\t4.0\t5.0\t4.0\n",
      " chr1\t1000000\t1100000\t0.002822364448531321\t0.48778\t0.8678855038286829\t0.2553898637603099\t0.6505051853144733\t1.0\t1.0\t2.0\t3.0\t4.0\t5.0\t4.0\n",
      " chr1\t1100000\t1200000\t0.002606374462381501\t0.69623\t0.8810661231976994\t0.2670952895598344\t0.6140178057493773\t1.0\t1.0\t2.0\t3.0\t4.0\t5.0\t4.0\n",
      " chr1\t1200000\t1300000\t0.0025304126604879266\t0.99497\t0.7993857743195988\t0.3634814305128325\t0.6988297685404945\t1.0\t1.0\t2.0\t3.0\t4.0\t5.0\t4.0\n",
      " "
     ]
    }
   ],
   "source": [
    "bed.head(5)"
   ]
  },
  {
   "cell_type": "code",
   "execution_count": 13,
   "metadata": {},
   "outputs": [],
   "source": [
    "a = pybedtools.example_bedtool('a.bed')"
   ]
  },
  {
   "cell_type": "code",
   "execution_count": null,
   "metadata": {},
   "outputs": [],
   "source": []
  }
 ],
 "metadata": {
  "kernelspec": {
   "display_name": "Python 3",
   "language": "python",
   "name": "python3"
  },
  "language_info": {
   "codemirror_mode": {
    "name": "ipython",
    "version": 3
   },
   "file_extension": ".py",
   "mimetype": "text/x-python",
   "name": "python",
   "nbconvert_exporter": "python",
   "pygments_lexer": "ipython3",
   "version": "3.7.9"
  }
 },
 "nbformat": 4,
 "nbformat_minor": 4
}
