{
 "cells": [
  {
   "cell_type": "code",
   "execution_count": 57,
   "metadata": {},
   "outputs": [],
   "source": [
    "import pandas as pd\n",
    "import matplotlib.pyplot as plt\n",
    "import bioframe\n",
    "import numpy as np\n",
    "import seaborn as sns\n",
    "import matplotlib"
   ]
  },
  {
   "cell_type": "code",
   "execution_count": 2,
   "metadata": {},
   "outputs": [
    {
     "data": {
      "text/html": [
       "<div>\n",
       "<style scoped>\n",
       "    .dataframe tbody tr th:only-of-type {\n",
       "        vertical-align: middle;\n",
       "    }\n",
       "\n",
       "    .dataframe tbody tr th {\n",
       "        vertical-align: top;\n",
       "    }\n",
       "\n",
       "    .dataframe thead th {\n",
       "        text-align: right;\n",
       "    }\n",
       "</style>\n",
       "<table border=\"1\" class=\"dataframe\">\n",
       "  <thead>\n",
       "    <tr style=\"text-align: right;\">\n",
       "      <th></th>\n",
       "      <th>chrom</th>\n",
       "      <th>start</th>\n",
       "      <th>end</th>\n",
       "      <th>KR</th>\n",
       "      <th>VC</th>\n",
       "      <th>VC_SQRT</th>\n",
       "      <th>weight</th>\n",
       "      <th>GC</th>\n",
       "      <th>E1</th>\n",
       "      <th>E2</th>\n",
       "      <th>E3</th>\n",
       "      <th>binary</th>\n",
       "      <th>HMM2</th>\n",
       "      <th>HMM3</th>\n",
       "      <th>HMM3P</th>\n",
       "    </tr>\n",
       "  </thead>\n",
       "  <tbody>\n",
       "    <tr>\n",
       "      <th>0</th>\n",
       "      <td>chr1</td>\n",
       "      <td>0</td>\n",
       "      <td>50000</td>\n",
       "      <td>0.012247</td>\n",
       "      <td>0.001838</td>\n",
       "      <td>0.032337</td>\n",
       "      <td>NaN</td>\n",
       "      <td>0.484250</td>\n",
       "      <td>NaN</td>\n",
       "      <td>NaN</td>\n",
       "      <td>NaN</td>\n",
       "      <td>NaN</td>\n",
       "      <td>NaN</td>\n",
       "      <td>NaN</td>\n",
       "      <td>NaN</td>\n",
       "    </tr>\n",
       "    <tr>\n",
       "      <th>1</th>\n",
       "      <td>chr1</td>\n",
       "      <td>50000</td>\n",
       "      <td>100000</td>\n",
       "      <td>0.047586</td>\n",
       "      <td>0.010207</td>\n",
       "      <td>0.076204</td>\n",
       "      <td>NaN</td>\n",
       "      <td>0.376740</td>\n",
       "      <td>NaN</td>\n",
       "      <td>NaN</td>\n",
       "      <td>NaN</td>\n",
       "      <td>NaN</td>\n",
       "      <td>NaN</td>\n",
       "      <td>NaN</td>\n",
       "      <td>NaN</td>\n",
       "    </tr>\n",
       "    <tr>\n",
       "      <th>2</th>\n",
       "      <td>chr1</td>\n",
       "      <td>100000</td>\n",
       "      <td>150000</td>\n",
       "      <td>0.050368</td>\n",
       "      <td>0.015204</td>\n",
       "      <td>0.093003</td>\n",
       "      <td>NaN</td>\n",
       "      <td>0.429960</td>\n",
       "      <td>NaN</td>\n",
       "      <td>NaN</td>\n",
       "      <td>NaN</td>\n",
       "      <td>NaN</td>\n",
       "      <td>NaN</td>\n",
       "      <td>NaN</td>\n",
       "      <td>NaN</td>\n",
       "    </tr>\n",
       "    <tr>\n",
       "      <th>3</th>\n",
       "      <td>chr1</td>\n",
       "      <td>150000</td>\n",
       "      <td>200000</td>\n",
       "      <td>0.059842</td>\n",
       "      <td>0.013402</td>\n",
       "      <td>0.087317</td>\n",
       "      <td>NaN</td>\n",
       "      <td>0.486340</td>\n",
       "      <td>NaN</td>\n",
       "      <td>NaN</td>\n",
       "      <td>NaN</td>\n",
       "      <td>NaN</td>\n",
       "      <td>NaN</td>\n",
       "      <td>NaN</td>\n",
       "      <td>NaN</td>\n",
       "    </tr>\n",
       "    <tr>\n",
       "      <th>4</th>\n",
       "      <td>chr1</td>\n",
       "      <td>200000</td>\n",
       "      <td>250000</td>\n",
       "      <td>NaN</td>\n",
       "      <td>0.000232</td>\n",
       "      <td>0.011488</td>\n",
       "      <td>NaN</td>\n",
       "      <td>0.480564</td>\n",
       "      <td>NaN</td>\n",
       "      <td>NaN</td>\n",
       "      <td>NaN</td>\n",
       "      <td>NaN</td>\n",
       "      <td>NaN</td>\n",
       "      <td>NaN</td>\n",
       "      <td>NaN</td>\n",
       "    </tr>\n",
       "  </tbody>\n",
       "</table>\n",
       "</div>"
      ],
      "text/plain": [
       "  chrom   start     end        KR        VC   VC_SQRT  weight        GC  E1  \\\n",
       "0  chr1       0   50000  0.012247  0.001838  0.032337     NaN  0.484250 NaN   \n",
       "1  chr1   50000  100000  0.047586  0.010207  0.076204     NaN  0.376740 NaN   \n",
       "2  chr1  100000  150000  0.050368  0.015204  0.093003     NaN  0.429960 NaN   \n",
       "3  chr1  150000  200000  0.059842  0.013402  0.087317     NaN  0.486340 NaN   \n",
       "4  chr1  200000  250000       NaN  0.000232  0.011488     NaN  0.480564 NaN   \n",
       "\n",
       "   E2  E3  binary  HMM2  HMM3  HMM3P  \n",
       "0 NaN NaN     NaN   NaN   NaN    NaN  \n",
       "1 NaN NaN     NaN   NaN   NaN    NaN  \n",
       "2 NaN NaN     NaN   NaN   NaN    NaN  \n",
       "3 NaN NaN     NaN   NaN   NaN    NaN  \n",
       "4 NaN NaN     NaN   NaN   NaN    NaN  "
      ]
     },
     "execution_count": 2,
     "metadata": {},
     "output_type": "execute_result"
    }
   ],
   "source": [
    "gm_df = pd.read_csv('../annotations/GM12878_hg38_50kb.tsv', sep = '\\t')\n",
    "gm_df.head()"
   ]
  },
  {
   "cell_type": "code",
   "execution_count": 4,
   "metadata": {},
   "outputs": [
    {
     "data": {
      "text/html": [
       "<div>\n",
       "<style scoped>\n",
       "    .dataframe tbody tr th:only-of-type {\n",
       "        vertical-align: middle;\n",
       "    }\n",
       "\n",
       "    .dataframe tbody tr th {\n",
       "        vertical-align: top;\n",
       "    }\n",
       "\n",
       "    .dataframe thead th {\n",
       "        text-align: right;\n",
       "    }\n",
       "</style>\n",
       "<table border=\"1\" class=\"dataframe\">\n",
       "  <thead>\n",
       "    <tr style=\"text-align: right;\">\n",
       "      <th></th>\n",
       "      <th>chrom</th>\n",
       "      <th>start</th>\n",
       "      <th>end</th>\n",
       "      <th>KR</th>\n",
       "      <th>VC</th>\n",
       "      <th>VC_SQRT</th>\n",
       "      <th>weight</th>\n",
       "      <th>GC</th>\n",
       "      <th>E1</th>\n",
       "      <th>E2</th>\n",
       "      <th>E3</th>\n",
       "      <th>binary</th>\n",
       "      <th>HMM2</th>\n",
       "      <th>HMM3</th>\n",
       "      <th>HMM3P</th>\n",
       "    </tr>\n",
       "  </thead>\n",
       "  <tbody>\n",
       "    <tr>\n",
       "      <th>0</th>\n",
       "      <td>chr1</td>\n",
       "      <td>0</td>\n",
       "      <td>50000</td>\n",
       "      <td>0.011192</td>\n",
       "      <td>0.001988</td>\n",
       "      <td>0.037799</td>\n",
       "      <td>NaN</td>\n",
       "      <td>0.484250</td>\n",
       "      <td>NaN</td>\n",
       "      <td>NaN</td>\n",
       "      <td>NaN</td>\n",
       "      <td>NaN</td>\n",
       "      <td>NaN</td>\n",
       "      <td>NaN</td>\n",
       "      <td>NaN</td>\n",
       "    </tr>\n",
       "    <tr>\n",
       "      <th>1</th>\n",
       "      <td>chr1</td>\n",
       "      <td>50000</td>\n",
       "      <td>100000</td>\n",
       "      <td>0.154982</td>\n",
       "      <td>0.026789</td>\n",
       "      <td>0.138755</td>\n",
       "      <td>NaN</td>\n",
       "      <td>0.376740</td>\n",
       "      <td>NaN</td>\n",
       "      <td>NaN</td>\n",
       "      <td>NaN</td>\n",
       "      <td>NaN</td>\n",
       "      <td>NaN</td>\n",
       "      <td>NaN</td>\n",
       "      <td>NaN</td>\n",
       "    </tr>\n",
       "    <tr>\n",
       "      <th>2</th>\n",
       "      <td>chr1</td>\n",
       "      <td>100000</td>\n",
       "      <td>150000</td>\n",
       "      <td>0.046705</td>\n",
       "      <td>0.007207</td>\n",
       "      <td>0.071968</td>\n",
       "      <td>NaN</td>\n",
       "      <td>0.429960</td>\n",
       "      <td>NaN</td>\n",
       "      <td>NaN</td>\n",
       "      <td>NaN</td>\n",
       "      <td>NaN</td>\n",
       "      <td>NaN</td>\n",
       "      <td>NaN</td>\n",
       "      <td>NaN</td>\n",
       "    </tr>\n",
       "    <tr>\n",
       "      <th>3</th>\n",
       "      <td>chr1</td>\n",
       "      <td>150000</td>\n",
       "      <td>200000</td>\n",
       "      <td>0.087255</td>\n",
       "      <td>0.012972</td>\n",
       "      <td>0.096555</td>\n",
       "      <td>NaN</td>\n",
       "      <td>0.486340</td>\n",
       "      <td>NaN</td>\n",
       "      <td>NaN</td>\n",
       "      <td>NaN</td>\n",
       "      <td>NaN</td>\n",
       "      <td>NaN</td>\n",
       "      <td>NaN</td>\n",
       "      <td>NaN</td>\n",
       "    </tr>\n",
       "    <tr>\n",
       "      <th>4</th>\n",
       "      <td>chr1</td>\n",
       "      <td>200000</td>\n",
       "      <td>250000</td>\n",
       "      <td>0.011123</td>\n",
       "      <td>0.000895</td>\n",
       "      <td>0.025357</td>\n",
       "      <td>NaN</td>\n",
       "      <td>0.480564</td>\n",
       "      <td>NaN</td>\n",
       "      <td>NaN</td>\n",
       "      <td>NaN</td>\n",
       "      <td>NaN</td>\n",
       "      <td>NaN</td>\n",
       "      <td>NaN</td>\n",
       "      <td>NaN</td>\n",
       "    </tr>\n",
       "  </tbody>\n",
       "</table>\n",
       "</div>"
      ],
      "text/plain": [
       "  chrom   start     end        KR        VC   VC_SQRT  weight        GC  E1  \\\n",
       "0  chr1       0   50000  0.011192  0.001988  0.037799     NaN  0.484250 NaN   \n",
       "1  chr1   50000  100000  0.154982  0.026789  0.138755     NaN  0.376740 NaN   \n",
       "2  chr1  100000  150000  0.046705  0.007207  0.071968     NaN  0.429960 NaN   \n",
       "3  chr1  150000  200000  0.087255  0.012972  0.096555     NaN  0.486340 NaN   \n",
       "4  chr1  200000  250000  0.011123  0.000895  0.025357     NaN  0.480564 NaN   \n",
       "\n",
       "   E2  E3  binary  HMM2  HMM3  HMM3P  \n",
       "0 NaN NaN     NaN   NaN   NaN    NaN  \n",
       "1 NaN NaN     NaN   NaN   NaN    NaN  \n",
       "2 NaN NaN     NaN   NaN   NaN    NaN  \n",
       "3 NaN NaN     NaN   NaN   NaN    NaN  \n",
       "4 NaN NaN     NaN   NaN   NaN    NaN  "
      ]
     },
     "execution_count": 4,
     "metadata": {},
     "output_type": "execute_result"
    }
   ],
   "source": [
    "im_df = pd.read_csv('../annotations/IMR90_hg38_50kb.tsv', sep = '\\t')\n",
    "im_df.head()"
   ]
  },
  {
   "cell_type": "code",
   "execution_count": 5,
   "metadata": {},
   "outputs": [
    {
     "name": "stderr",
     "output_type": "stream",
     "text": [
      "/pollard/home/lchumpitaz/miniconda3/envs/HC2/lib/python3.7/site-packages/pandas/core/frame.py:4446: SettingWithCopyWarning: \n",
      "A value is trying to be set on a copy of a slice from a DataFrame\n",
      "\n",
      "See the caveats in the documentation: https://pandas.pydata.org/pandas-docs/stable/user_guide/indexing.html#returning-a-view-versus-a-copy\n",
      "  errors=errors,\n"
     ]
    },
    {
     "data": {
      "text/html": [
       "<div>\n",
       "<style scoped>\n",
       "    .dataframe tbody tr th:only-of-type {\n",
       "        vertical-align: middle;\n",
       "    }\n",
       "\n",
       "    .dataframe tbody tr th {\n",
       "        vertical-align: top;\n",
       "    }\n",
       "\n",
       "    .dataframe thead th {\n",
       "        text-align: right;\n",
       "    }\n",
       "</style>\n",
       "<table border=\"1\" class=\"dataframe\">\n",
       "  <thead>\n",
       "    <tr style=\"text-align: right;\">\n",
       "      <th></th>\n",
       "      <th>chrom</th>\n",
       "      <th>annot</th>\n",
       "      <th>type</th>\n",
       "      <th>start</th>\n",
       "      <th>end</th>\n",
       "      <th>na1</th>\n",
       "      <th>strand</th>\n",
       "      <th>na2</th>\n",
       "      <th>genestuff</th>\n",
       "      <th>Description</th>\n",
       "      <th>Name</th>\n",
       "    </tr>\n",
       "  </thead>\n",
       "  <tbody>\n",
       "    <tr>\n",
       "      <th>0</th>\n",
       "      <td>chr1</td>\n",
       "      <td>HAVANA</td>\n",
       "      <td>gene</td>\n",
       "      <td>11869</td>\n",
       "      <td>14409</td>\n",
       "      <td>.</td>\n",
       "      <td>+</td>\n",
       "      <td>.</td>\n",
       "      <td>ID=ENSG00000223972.5;gene_id=ENSG00000223972.5...</td>\n",
       "      <td>DDX11L1</td>\n",
       "      <td>ENSG00000223972.5</td>\n",
       "    </tr>\n",
       "    <tr>\n",
       "      <th>12</th>\n",
       "      <td>chr1</td>\n",
       "      <td>HAVANA</td>\n",
       "      <td>gene</td>\n",
       "      <td>14404</td>\n",
       "      <td>29570</td>\n",
       "      <td>.</td>\n",
       "      <td>-</td>\n",
       "      <td>.</td>\n",
       "      <td>ID=ENSG00000227232.5;gene_id=ENSG00000227232.5...</td>\n",
       "      <td>WASH7P</td>\n",
       "      <td>ENSG00000227232.5</td>\n",
       "    </tr>\n",
       "    <tr>\n",
       "      <th>25</th>\n",
       "      <td>chr1</td>\n",
       "      <td>ENSEMBL</td>\n",
       "      <td>gene</td>\n",
       "      <td>17369</td>\n",
       "      <td>17436</td>\n",
       "      <td>.</td>\n",
       "      <td>-</td>\n",
       "      <td>.</td>\n",
       "      <td>ID=ENSG00000278267.1;gene_id=ENSG00000278267.1...</td>\n",
       "      <td>MIR6859-1</td>\n",
       "      <td>ENSG00000278267.1</td>\n",
       "    </tr>\n",
       "    <tr>\n",
       "      <th>28</th>\n",
       "      <td>chr1</td>\n",
       "      <td>HAVANA</td>\n",
       "      <td>gene</td>\n",
       "      <td>29554</td>\n",
       "      <td>31109</td>\n",
       "      <td>.</td>\n",
       "      <td>+</td>\n",
       "      <td>.</td>\n",
       "      <td>ID=ENSG00000243485.5;gene_id=ENSG00000243485.5...</td>\n",
       "      <td>MIR1302-2HG</td>\n",
       "      <td>ENSG00000243485.5</td>\n",
       "    </tr>\n",
       "    <tr>\n",
       "      <th>36</th>\n",
       "      <td>chr1</td>\n",
       "      <td>ENSEMBL</td>\n",
       "      <td>gene</td>\n",
       "      <td>30366</td>\n",
       "      <td>30503</td>\n",
       "      <td>.</td>\n",
       "      <td>+</td>\n",
       "      <td>.</td>\n",
       "      <td>ID=ENSG00000284332.1;gene_id=ENSG00000284332.1...</td>\n",
       "      <td>MIR1302-2</td>\n",
       "      <td>ENSG00000284332.1</td>\n",
       "    </tr>\n",
       "  </tbody>\n",
       "</table>\n",
       "</div>"
      ],
      "text/plain": [
       "   chrom    annot  type  start    end na1 strand na2  \\\n",
       "0   chr1   HAVANA  gene  11869  14409   .      +   .   \n",
       "12  chr1   HAVANA  gene  14404  29570   .      -   .   \n",
       "25  chr1  ENSEMBL  gene  17369  17436   .      -   .   \n",
       "28  chr1   HAVANA  gene  29554  31109   .      +   .   \n",
       "36  chr1  ENSEMBL  gene  30366  30503   .      +   .   \n",
       "\n",
       "                                            genestuff  Description  \\\n",
       "0   ID=ENSG00000223972.5;gene_id=ENSG00000223972.5...      DDX11L1   \n",
       "12  ID=ENSG00000227232.5;gene_id=ENSG00000227232.5...       WASH7P   \n",
       "25  ID=ENSG00000278267.1;gene_id=ENSG00000278267.1...    MIR6859-1   \n",
       "28  ID=ENSG00000243485.5;gene_id=ENSG00000243485.5...  MIR1302-2HG   \n",
       "36  ID=ENSG00000284332.1;gene_id=ENSG00000284332.1...    MIR1302-2   \n",
       "\n",
       "                 Name  \n",
       "0   ENSG00000223972.5  \n",
       "12  ENSG00000227232.5  \n",
       "25  ENSG00000278267.1  \n",
       "28  ENSG00000243485.5  \n",
       "36  ENSG00000284332.1  "
      ]
     },
     "execution_count": 5,
     "metadata": {},
     "output_type": "execute_result"
    }
   ],
   "source": [
    "gencode = pd.read_csv('../data/gencode.v37.annotation.gff3.gz',\n",
    "               names=['chrom','annot','type','start','stop','na1','strand','na2','genestuff'],\n",
    "                      delimiter='\\t',skiprows=7)\n",
    "\n",
    "genes = gencode.loc[gencode['type'].values=='gene']\n",
    "genes.rename(columns={'stop':'end'}, inplace=True)\n",
    "genes = genes.astype({'start':int,'end':int})\n",
    "### need to join gene table & expression table\n",
    "geneNames =  genes['genestuff'].str.split(';')\n",
    "genes['Description'] = [i[3].split('=')[1] for i in geneNames]\n",
    "genes['Name'] = [i[0].split('=')[1] for i in geneNames]\n",
    "genes.head()"
   ]
  },
  {
   "cell_type": "code",
   "execution_count": 6,
   "metadata": {},
   "outputs": [
    {
     "data": {
      "text/html": [
       "<div>\n",
       "<style scoped>\n",
       "    .dataframe tbody tr th:only-of-type {\n",
       "        vertical-align: middle;\n",
       "    }\n",
       "\n",
       "    .dataframe tbody tr th {\n",
       "        vertical-align: top;\n",
       "    }\n",
       "\n",
       "    .dataframe thead th {\n",
       "        text-align: right;\n",
       "    }\n",
       "</style>\n",
       "<table border=\"1\" class=\"dataframe\">\n",
       "  <thead>\n",
       "    <tr style=\"text-align: right;\">\n",
       "      <th></th>\n",
       "      <th>Name</th>\n",
       "      <th>Description</th>\n",
       "      <th>Adipose - Subcutaneous</th>\n",
       "      <th>Adipose - Visceral (Omentum)</th>\n",
       "      <th>Adrenal Gland</th>\n",
       "      <th>Artery - Aorta</th>\n",
       "      <th>Artery - Coronary</th>\n",
       "      <th>Artery - Tibial</th>\n",
       "      <th>Bladder</th>\n",
       "      <th>Brain - Amygdala</th>\n",
       "      <th>...</th>\n",
       "      <th>Skin - Not Sun Exposed (Suprapubic)</th>\n",
       "      <th>Skin - Sun Exposed (Lower leg)</th>\n",
       "      <th>Small Intestine - Terminal Ileum</th>\n",
       "      <th>Spleen</th>\n",
       "      <th>Stomach</th>\n",
       "      <th>Testis</th>\n",
       "      <th>Thyroid</th>\n",
       "      <th>Uterus</th>\n",
       "      <th>Vagina</th>\n",
       "      <th>Whole Blood</th>\n",
       "    </tr>\n",
       "  </thead>\n",
       "  <tbody>\n",
       "    <tr>\n",
       "      <th>0</th>\n",
       "      <td>ENSG00000223972.5</td>\n",
       "      <td>DDX11L1</td>\n",
       "      <td>0.00000</td>\n",
       "      <td>0.00000</td>\n",
       "      <td>0.00000</td>\n",
       "      <td>0.00000</td>\n",
       "      <td>0.00000</td>\n",
       "      <td>0.00000</td>\n",
       "      <td>0.00000</td>\n",
       "      <td>0.00000</td>\n",
       "      <td>...</td>\n",
       "      <td>0.00000</td>\n",
       "      <td>0.00000</td>\n",
       "      <td>0.00000</td>\n",
       "      <td>0.00000</td>\n",
       "      <td>0.00000</td>\n",
       "      <td>0.166403</td>\n",
       "      <td>0.00000</td>\n",
       "      <td>0.00000</td>\n",
       "      <td>0.00000</td>\n",
       "      <td>0.00000</td>\n",
       "    </tr>\n",
       "    <tr>\n",
       "      <th>1</th>\n",
       "      <td>ENSG00000227232.5</td>\n",
       "      <td>WASH7P</td>\n",
       "      <td>4.06403</td>\n",
       "      <td>3.37111</td>\n",
       "      <td>2.68549</td>\n",
       "      <td>4.04762</td>\n",
       "      <td>3.90076</td>\n",
       "      <td>3.63963</td>\n",
       "      <td>5.16375</td>\n",
       "      <td>1.43859</td>\n",
       "      <td>...</td>\n",
       "      <td>5.93298</td>\n",
       "      <td>6.13265</td>\n",
       "      <td>4.19378</td>\n",
       "      <td>5.92631</td>\n",
       "      <td>3.06248</td>\n",
       "      <td>4.702530</td>\n",
       "      <td>6.27255</td>\n",
       "      <td>7.19001</td>\n",
       "      <td>5.74554</td>\n",
       "      <td>2.64743</td>\n",
       "    </tr>\n",
       "    <tr>\n",
       "      <th>2</th>\n",
       "      <td>ENSG00000278267.1</td>\n",
       "      <td>MIR6859-1</td>\n",
       "      <td>0.00000</td>\n",
       "      <td>0.00000</td>\n",
       "      <td>0.00000</td>\n",
       "      <td>0.00000</td>\n",
       "      <td>0.00000</td>\n",
       "      <td>0.00000</td>\n",
       "      <td>0.00000</td>\n",
       "      <td>0.00000</td>\n",
       "      <td>...</td>\n",
       "      <td>0.00000</td>\n",
       "      <td>0.00000</td>\n",
       "      <td>0.00000</td>\n",
       "      <td>0.00000</td>\n",
       "      <td>0.00000</td>\n",
       "      <td>0.000000</td>\n",
       "      <td>0.00000</td>\n",
       "      <td>0.00000</td>\n",
       "      <td>0.00000</td>\n",
       "      <td>0.00000</td>\n",
       "    </tr>\n",
       "    <tr>\n",
       "      <th>3</th>\n",
       "      <td>ENSG00000243485.5</td>\n",
       "      <td>MIR1302-2HG</td>\n",
       "      <td>0.00000</td>\n",
       "      <td>0.00000</td>\n",
       "      <td>0.00000</td>\n",
       "      <td>0.00000</td>\n",
       "      <td>0.00000</td>\n",
       "      <td>0.00000</td>\n",
       "      <td>0.00000</td>\n",
       "      <td>0.00000</td>\n",
       "      <td>...</td>\n",
       "      <td>0.00000</td>\n",
       "      <td>0.00000</td>\n",
       "      <td>0.00000</td>\n",
       "      <td>0.00000</td>\n",
       "      <td>0.00000</td>\n",
       "      <td>0.054223</td>\n",
       "      <td>0.00000</td>\n",
       "      <td>0.00000</td>\n",
       "      <td>0.00000</td>\n",
       "      <td>0.00000</td>\n",
       "    </tr>\n",
       "    <tr>\n",
       "      <th>4</th>\n",
       "      <td>ENSG00000237613.2</td>\n",
       "      <td>FAM138A</td>\n",
       "      <td>0.00000</td>\n",
       "      <td>0.00000</td>\n",
       "      <td>0.00000</td>\n",
       "      <td>0.00000</td>\n",
       "      <td>0.00000</td>\n",
       "      <td>0.00000</td>\n",
       "      <td>0.00000</td>\n",
       "      <td>0.00000</td>\n",
       "      <td>...</td>\n",
       "      <td>0.00000</td>\n",
       "      <td>0.00000</td>\n",
       "      <td>0.00000</td>\n",
       "      <td>0.00000</td>\n",
       "      <td>0.00000</td>\n",
       "      <td>0.000000</td>\n",
       "      <td>0.00000</td>\n",
       "      <td>0.00000</td>\n",
       "      <td>0.00000</td>\n",
       "      <td>0.00000</td>\n",
       "    </tr>\n",
       "  </tbody>\n",
       "</table>\n",
       "<p>5 rows × 56 columns</p>\n",
       "</div>"
      ],
      "text/plain": [
       "                Name  Description  Adipose - Subcutaneous  \\\n",
       "0  ENSG00000223972.5      DDX11L1                 0.00000   \n",
       "1  ENSG00000227232.5       WASH7P                 4.06403   \n",
       "2  ENSG00000278267.1    MIR6859-1                 0.00000   \n",
       "3  ENSG00000243485.5  MIR1302-2HG                 0.00000   \n",
       "4  ENSG00000237613.2      FAM138A                 0.00000   \n",
       "\n",
       "   Adipose - Visceral (Omentum)  Adrenal Gland  Artery - Aorta  \\\n",
       "0                       0.00000        0.00000         0.00000   \n",
       "1                       3.37111        2.68549         4.04762   \n",
       "2                       0.00000        0.00000         0.00000   \n",
       "3                       0.00000        0.00000         0.00000   \n",
       "4                       0.00000        0.00000         0.00000   \n",
       "\n",
       "   Artery - Coronary  Artery - Tibial  Bladder  Brain - Amygdala  ...  \\\n",
       "0            0.00000          0.00000  0.00000           0.00000  ...   \n",
       "1            3.90076          3.63963  5.16375           1.43859  ...   \n",
       "2            0.00000          0.00000  0.00000           0.00000  ...   \n",
       "3            0.00000          0.00000  0.00000           0.00000  ...   \n",
       "4            0.00000          0.00000  0.00000           0.00000  ...   \n",
       "\n",
       "   Skin - Not Sun Exposed (Suprapubic)  Skin - Sun Exposed (Lower leg)  \\\n",
       "0                              0.00000                         0.00000   \n",
       "1                              5.93298                         6.13265   \n",
       "2                              0.00000                         0.00000   \n",
       "3                              0.00000                         0.00000   \n",
       "4                              0.00000                         0.00000   \n",
       "\n",
       "   Small Intestine - Terminal Ileum   Spleen  Stomach    Testis  Thyroid  \\\n",
       "0                           0.00000  0.00000  0.00000  0.166403  0.00000   \n",
       "1                           4.19378  5.92631  3.06248  4.702530  6.27255   \n",
       "2                           0.00000  0.00000  0.00000  0.000000  0.00000   \n",
       "3                           0.00000  0.00000  0.00000  0.054223  0.00000   \n",
       "4                           0.00000  0.00000  0.00000  0.000000  0.00000   \n",
       "\n",
       "    Uterus   Vagina  Whole Blood  \n",
       "0  0.00000  0.00000      0.00000  \n",
       "1  7.19001  5.74554      2.64743  \n",
       "2  0.00000  0.00000      0.00000  \n",
       "3  0.00000  0.00000      0.00000  \n",
       "4  0.00000  0.00000      0.00000  \n",
       "\n",
       "[5 rows x 56 columns]"
      ]
     },
     "execution_count": 6,
     "metadata": {},
     "output_type": "execute_result"
    }
   ],
   "source": [
    "expression = pd.read_csv('../data/GTEx_Analysis_2017-06-05_v8_RNASeQCv1.1.9_gene_median_tpm.gct.gz'\n",
    "               ,delimiter='\\t', skiprows = 2)\n",
    "expression.head()"
   ]
  },
  {
   "cell_type": "code",
   "execution_count": 7,
   "metadata": {},
   "outputs": [],
   "source": [
    "t = expression.set_index('Name').join(genes.set_index('Name'),rsuffix='_')"
   ]
  },
  {
   "cell_type": "code",
   "execution_count": 8,
   "metadata": {},
   "outputs": [],
   "source": [
    "expressed_genes = t.copy()\n",
    "expressed_genes.reset_index(inplace=True)\n",
    "expressed_genes = expressed_genes[['chrom','start','end','strand','Cells - EBV-transformed lymphocytes', 'Lung']]\n",
    "expressed_genes = expressed_genes.iloc[~pd.isnull(expressed_genes['chrom'].values)]\n",
    "expressed_genes.sort_values(['chrom','start','end'],inplace=True)\n",
    "expressed_genes['start'] = expressed_genes['start'].values.astype(int) #since just using .astype() method wasn't working..\n",
    "expressed_genes['end'] = expressed_genes['end'].values.astype(int)\n",
    "expressed_genes = expressed_genes[expressed_genes['chrom'].isin(gm_df.chrom.unique())] #Filters out chroms not available in Hi-C HMM"
   ]
  },
  {
   "cell_type": "code",
   "execution_count": 9,
   "metadata": {},
   "outputs": [
    {
     "data": {
      "text/html": [
       "<div>\n",
       "<style scoped>\n",
       "    .dataframe tbody tr th:only-of-type {\n",
       "        vertical-align: middle;\n",
       "    }\n",
       "\n",
       "    .dataframe tbody tr th {\n",
       "        vertical-align: top;\n",
       "    }\n",
       "\n",
       "    .dataframe thead th {\n",
       "        text-align: right;\n",
       "    }\n",
       "</style>\n",
       "<table border=\"1\" class=\"dataframe\">\n",
       "  <thead>\n",
       "    <tr style=\"text-align: right;\">\n",
       "      <th></th>\n",
       "      <th>chrom</th>\n",
       "      <th>start</th>\n",
       "      <th>end</th>\n",
       "      <th>strand</th>\n",
       "      <th>Cells - EBV-transformed lymphocytes</th>\n",
       "      <th>Lung</th>\n",
       "    </tr>\n",
       "  </thead>\n",
       "  <tbody>\n",
       "    <tr>\n",
       "      <th>0</th>\n",
       "      <td>chr1</td>\n",
       "      <td>11869</td>\n",
       "      <td>14409</td>\n",
       "      <td>+</td>\n",
       "      <td>0.00000</td>\n",
       "      <td>0.00000</td>\n",
       "    </tr>\n",
       "    <tr>\n",
       "      <th>1</th>\n",
       "      <td>chr1</td>\n",
       "      <td>14404</td>\n",
       "      <td>29570</td>\n",
       "      <td>-</td>\n",
       "      <td>2.49477</td>\n",
       "      <td>4.50841</td>\n",
       "    </tr>\n",
       "    <tr>\n",
       "      <th>2</th>\n",
       "      <td>chr1</td>\n",
       "      <td>17369</td>\n",
       "      <td>17436</td>\n",
       "      <td>-</td>\n",
       "      <td>0.00000</td>\n",
       "      <td>0.00000</td>\n",
       "    </tr>\n",
       "    <tr>\n",
       "      <th>3</th>\n",
       "      <td>chr1</td>\n",
       "      <td>29554</td>\n",
       "      <td>31109</td>\n",
       "      <td>+</td>\n",
       "      <td>0.00000</td>\n",
       "      <td>0.00000</td>\n",
       "    </tr>\n",
       "    <tr>\n",
       "      <th>4</th>\n",
       "      <td>chr1</td>\n",
       "      <td>34554</td>\n",
       "      <td>36081</td>\n",
       "      <td>-</td>\n",
       "      <td>0.00000</td>\n",
       "      <td>0.00000</td>\n",
       "    </tr>\n",
       "  </tbody>\n",
       "</table>\n",
       "</div>"
      ],
      "text/plain": [
       "  chrom  start    end strand  Cells - EBV-transformed lymphocytes     Lung\n",
       "0  chr1  11869  14409      +                              0.00000  0.00000\n",
       "1  chr1  14404  29570      -                              2.49477  4.50841\n",
       "2  chr1  17369  17436      -                              0.00000  0.00000\n",
       "3  chr1  29554  31109      +                              0.00000  0.00000\n",
       "4  chr1  34554  36081      -                              0.00000  0.00000"
      ]
     },
     "execution_count": 9,
     "metadata": {},
     "output_type": "execute_result"
    }
   ],
   "source": [
    "expressed_genes.head()"
   ]
  },
  {
   "cell_type": "code",
   "execution_count": 33,
   "metadata": {},
   "outputs": [],
   "source": [
    "from bioframe.util import bedtools\n",
    "def bedtools_intersect_basePairs(left, right, rsuffix='_', **kwargs):\n",
    "    \"\"\"\n",
    "    >>> ixn = bedtools_intersect(bed1, bed2, wao=True), needed to delete other keys b/c they clashed\n",
    "   \"\"\"\n",
    "    \n",
    "    out = bedtools.intersect(a=left, b=right,wao=True)\n",
    "    out.columns = list(left.columns) + [c+rsuffix if c in left.columns else c for c in right.columns] + ['bpOverlap']\n",
    "    out = out[out['start_']!=-1]\n",
    "    out.iloc[:, -3:-1] = out.iloc[:, -3:-1].values.astype(float)\n",
    "    return out"
   ]
  },
  {
   "cell_type": "code",
   "execution_count": 35,
   "metadata": {},
   "outputs": [],
   "source": [
    "gm_intersection = bedtools_intersect_basePairs(gm_df, expressed_genes)\n",
    "im_intersection = bedtools_intersect_basePairs(im_df, expressed_genes)"
   ]
  },
  {
   "cell_type": "code",
   "execution_count": 36,
   "metadata": {},
   "outputs": [],
   "source": [
    "gm_mask = (gm_intersection['E1'] == gm_intersection['E1']) & (gm_intersection['Cells - EBV-transformed lymphocytes']>0)\n",
    "im_mask = (im_intersection['E1'] == im_intersection['E1']) & (im_intersection['Lung']>0)"
   ]
  },
  {
   "cell_type": "code",
   "execution_count": 37,
   "metadata": {},
   "outputs": [],
   "source": [
    "def get_data(inter_df, hmm, cell_type):\n",
    "    data = []\n",
    "    for i in range(len(inter_df[hmm].unique())):\n",
    "        track = inter_df[inter_df[hmm]==i][cell_type].values\n",
    "        data.append(np.log(track))\n",
    "    return data"
   ]
  },
  {
   "cell_type": "code",
   "execution_count": 43,
   "metadata": {},
   "outputs": [],
   "source": [
    "labels=['B', 'Mbb', 'M', 'Maa', 'A']"
   ]
  },
  {
   "cell_type": "code",
   "execution_count": 38,
   "metadata": {},
   "outputs": [],
   "source": [
    "gm_data = get_data(gm_intersection[gm_mask], 'HMM3P', 'Cells - EBV-transformed lymphocytes')"
   ]
  },
  {
   "cell_type": "code",
   "execution_count": 49,
   "metadata": {},
   "outputs": [
    {
     "data": {
      "text/plain": [
       "Text(0, 0.5, 'log(Expression level)')"
      ]
     },
     "execution_count": 49,
     "metadata": {},
     "output_type": "execute_result"
    },
    {
     "data": {
      "image/png": "[encoded data removed]",
      "text/plain": [
       "<Figure size 432x288 with 1 Axes>"
      ]
     },
     "metadata": {
      "needs_background": "light"
     },
     "output_type": "display_data"
    }
   ],
   "source": [
    "sns.boxplot(data=gm_data)\n",
    "plt.gca().set_xticklabels(labels);\n",
    "plt.title('GM12878 Gene expression ')\n",
    "plt.xlabel('Compartment State')\n",
    "plt.ylabel('log(Expression level)')"
   ]
  },
  {
   "cell_type": "code",
   "execution_count": 44,
   "metadata": {},
   "outputs": [],
   "source": [
    "im_data = get_data(im_intersection[im_mask], 'HMM3P', 'Lung')"
   ]
  },
  {
   "cell_type": "code",
   "execution_count": 50,
   "metadata": {
    "scrolled": true
   },
   "outputs": [
    {
     "data": {
      "text/plain": [
       "Text(0, 0.5, 'log(Expression level)')"
      ]
     },
     "execution_count": 50,
     "metadata": {},
     "output_type": "execute_result"
    },
    {
     "data": {
      "image/png": "[encoded data removed]",
      "text/plain": [
       "<Figure size 432x288 with 1 Axes>"
      ]
     },
     "metadata": {
      "needs_background": "light"
     },
     "output_type": "display_data"
    }
   ],
   "source": [
    "sns.boxplot(data=im_data)\n",
    "plt.gca().set_xticklabels(labels);\n",
    "plt.title('IMR90 Gene expression')\n",
    "plt.xlabel('Compartment State')\n",
    "plt.ylabel('log(Expression level)')"
   ]
  },
  {
   "cell_type": "code",
   "execution_count": 70,
   "metadata": {},
   "outputs": [],
   "source": [
    "equal_mask = gm_intersection[gm_mask & im_mask].HMM3P ==  im_intersection[gm_mask & im_mask].HMM3P"
   ]
  },
  {
   "cell_type": "code",
   "execution_count": 225,
   "metadata": {},
   "outputs": [],
   "source": [
    "compartment = 0\n",
    "both_comparment = equal_mask & (gm_intersection.HMM3P==compartment)\n",
    "gm_comparment = (~equal_mask) & (gm_intersection.HMM3P==compartment)\n",
    "im_comparment = (~equal_mask) & (im_intersection.HMM3P==compartment)\n",
    "none_comparment = (~(both_comparment | gm_comparment | im_comparment))\n",
    "\n",
    "\n"
   ]
  },
  {
   "cell_type": "code",
   "execution_count": 226,
   "metadata": {},
   "outputs": [],
   "source": [
    "gm_intersection['type'] = 'None'"
   ]
  },
  {
   "cell_type": "code",
   "execution_count": 228,
   "metadata": {},
   "outputs": [],
   "source": [
    "gm_intersection['type'].iloc[both_comparment] = 'both'\n",
    "gm_intersection['type'].iloc[gm_comparment] = 'GM12878 only'\n",
    "gm_intersection['type'].iloc[im_comparment] = 'IMR90 only'"
   ]
  },
  {
   "cell_type": "code",
   "execution_count": 229,
   "metadata": {},
   "outputs": [
    {
     "data": {
      "text/plain": [
       "array(['None', 'IMR90 only', 'both', 'GM12878 only'], dtype=object)"
      ]
     },
     "execution_count": 229,
     "metadata": {},
     "output_type": "execute_result"
    }
   ],
   "source": [
    "gm_intersection['type'].unique()"
   ]
  },
  {
   "cell_type": "code",
   "execution_count": 230,
   "metadata": {},
   "outputs": [
    {
     "data": {
      "text/plain": [
       "Text(0.5, 0, 'GM12878 log expression')"
      ]
     },
     "execution_count": 230,
     "metadata": {},
     "output_type": "execute_result"
    },
    {
     "data": {
      "image/png": "[encoded data removed]",
      "text/plain": [
       "<Figure size 1080x360 with 3 Axes>"
      ]
     },
     "metadata": {
      "needs_background": "light"
     },
     "output_type": "display_data"
    }
   ],
   "source": [
    "plt.figure(figsize=(15, 5))\n",
    "\n",
    "plt.subplot(131)\n",
    "plt.scatter(np.log(gm_intersection[ (gm_mask & im_mask)]['Cells - EBV-transformed lymphocytes'].values), \n",
    "            np.log(gm_intersection[ (gm_mask & im_mask)]['Lung'].values), c='gray'\n",
    "           )\n",
    "plt.scatter(np.log(gm_intersection[im_comparment]['Cells - EBV-transformed lymphocytes'].values), \n",
    "            np.log(gm_intersection[im_comparment]['Lung'].values), c='red'\n",
    "           )\n",
    "plt.ylabel('IMR90 log expression')\n",
    "plt.subplot(132)\n",
    "plt.scatter(np.log(gm_intersection[ (gm_mask & im_mask)]['Cells - EBV-transformed lymphocytes'].values), \n",
    "            np.log(gm_intersection[ (gm_mask & im_mask)]['Lung'].values), c='gray'\n",
    "           )\n",
    "plt.scatter(np.log(gm_intersection[gm_comparment]['Cells - EBV-transformed lymphocytes'].values), \n",
    "            np.log(gm_intersection[gm_comparment]['Lung'].values), c='blue'\n",
    "           )\n",
    "\n",
    "plt.subplot(133)\n",
    "plt.scatter(np.log(gm_intersection[ (gm_mask & im_mask)]['Cells - EBV-transformed lymphocytes'].values), \n",
    "            np.log(gm_intersection[ (gm_mask & im_mask)]['Lung'].values), c='gray'\n",
    "           )\n",
    "plt.scatter(np.log(gm_intersection[both_comparment]['Cells - EBV-transformed lymphocytes'].values), \n",
    "            np.log(gm_intersection[both_comparment]['Lung'].values), c='green'\n",
    "           )\n",
    "\n",
    "\n",
    "plt.xlabel('GM12878 log expression')\n"
   ]
  },
  {
   "cell_type": "code",
   "execution_count": 247,
   "metadata": {},
   "outputs": [
    {
     "data": {
      "text/plain": [
       "<seaborn.axisgrid.FacetGrid at 0x7f17f1816750>"
      ]
     },
     "execution_count": 247,
     "metadata": {},
     "output_type": "execute_result"
    },
    {
     "data": {
      "image/png": "[encoded data removed]",
      "text/plain": [
       "<Figure size 468.5x360 with 1 Axes>"
      ]
     },
     "metadata": {
      "needs_background": "light"
     },
     "output_type": "display_data"
    }
   ],
   "source": [
    "sns.displot(gm_intersection[ (~none_comparment)], \n",
    "            x='Cells - EBV-transformed lymphocytes', \n",
    "            y='Lung', log_scale=(True, True),  hue=\"type\")"
   ]
  },
  {
   "cell_type": "code",
   "execution_count": 250,
   "metadata": {},
   "outputs": [
    {
     "data": {
      "image/png": "[encoded data removed]",
      "text/plain": [
       "<Figure size 432x432 with 3 Axes>"
      ]
     },
     "metadata": {
      "needs_background": "light"
     },
     "output_type": "display_data"
    }
   ],
   "source": [
    "g= sns.jointplot(\n",
    "            data=gm_intersection[(~none_comparment)], \n",
    "            x='Cells - EBV-transformed lymphocytes', \n",
    "            y='Lung', log_scale=(True, True),  hue=\"type\", kind='kde', levels=3)\n"
   ]
  },
  {
   "cell_type": "code",
   "execution_count": null,
   "metadata": {},
   "outputs": [],
   "source": [
    "\n"
   ]
  }
 ],
 "metadata": {
  "kernelspec": {
   "display_name": "Python 3",
   "language": "python",
   "name": "python3"
  },
  "language_info": {
   "codemirror_mode": {
    "name": "ipython",
    "version": 3
   },
   "file_extension": ".py",
   "mimetype": "text/x-python",
   "name": "python",
   "nbconvert_exporter": "python",
   "pygments_lexer": "ipython3",
   "version": "3.7.9"
  }
 },
 "nbformat": 4,
 "nbformat_minor": 4
}
